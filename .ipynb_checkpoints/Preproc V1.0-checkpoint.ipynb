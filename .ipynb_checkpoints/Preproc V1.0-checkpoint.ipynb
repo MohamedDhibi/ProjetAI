{
 "cells": [
  {
   "cell_type": "markdown",
   "id": "0ded7b80",
   "metadata": {},
   "source": [
    "# Importation"
   ]
  },
  {
   "cell_type": "code",
   "execution_count": 1,
   "id": "4d4b01ac",
   "metadata": {},
   "outputs": [],
   "source": [
    "from tqdm import tqdm\n",
    "import time\n",
    "import warnings\n",
    "warnings.filterwarnings(\"ignore\")\n",
    "import sys\n",
    "import re\n",
    "import pandas as pd\n",
    "from PyPDF2 import PdfReader"
   ]
  },
  {
   "cell_type": "code",
   "execution_count": 3,
   "id": "d43c2706",
   "metadata": {},
   "outputs": [],
   "source": [
    "from pdf2image import convert_from_path"
   ]
  },
  {
   "cell_type": "markdown",
   "id": "086f42a4",
   "metadata": {},
   "source": [
    "# Transforming to pictures"
   ]
  },
  {
   "cell_type": "code",
   "execution_count": null,
   "id": "0786b001",
   "metadata": {},
   "outputs": [],
   "source": []
  },
  {
   "cell_type": "code",
   "execution_count": 12,
   "id": "595c97a4",
   "metadata": {},
   "outputs": [],
   "source": [
    "# PDF file paths\n",
    "pdfPMBOK = \"PMBOK6-2017.pdf\" #431-494\n",
    "pdfPMI = \"practice-standard-project-risk-management.pdf\" #1-116\n",
    "output_folder_1=\"PMBOOKimgs\"\n",
    "output_folder_2=\"Practiceimgs\""
   ]
  },
  {
   "cell_type": "code",
   "execution_count": 23,
   "id": "2a3c8e65",
   "metadata": {},
   "outputs": [],
   "source": [
    "def convert_pdf_to_images(pdf_file_path, output_folder, start_page, end_page):\n",
    "    images = convert_from_path(pdf_file_path, output_folder=output_folder, fmt='jpg', first_page=start_page, last_page=end_page)\n",
    "    \n",
    "    for i, image in enumerate(images):\n",
    "        image.save(f\"{output_folder}/page_{start_page + i}.png\", format=\"PNG\")\n",
    "    print(\"Done.\")"
   ]
  },
  {
   "cell_type": "code",
   "execution_count": 24,
   "id": "07917b7f",
   "metadata": {},
   "outputs": [
    {
     "name": "stdout",
     "output_type": "stream",
     "text": [
      "Done.\n"
     ]
    }
   ],
   "source": [
    "convert_pdf_to_images(pdfPMBOK, output_folder_1, 431, 494)"
   ]
  },
  {
   "cell_type": "code",
   "execution_count": 25,
   "id": "e0c31525",
   "metadata": {},
   "outputs": [
    {
     "name": "stdout",
     "output_type": "stream",
     "text": [
      "Done.\n"
     ]
    }
   ],
   "source": [
    "convert_pdf_to_images(pdfPMI, output_folder_2, 1, 116)"
   ]
  },
  {
   "cell_type": "markdown",
   "id": "e536ef65",
   "metadata": {},
   "source": [
    "# Extracting Figures"
   ]
  },
  {
   "cell_type": "code",
   "execution_count": null,
   "id": "2d0d3289",
   "metadata": {},
   "outputs": [],
   "source": []
  }
 ],
 "metadata": {
  "kernelspec": {
   "display_name": "Python 3 (ipykernel)",
   "language": "python",
   "name": "python3"
  },
  "language_info": {
   "codemirror_mode": {
    "name": "ipython",
    "version": 3
   },
   "file_extension": ".py",
   "mimetype": "text/x-python",
   "name": "python",
   "nbconvert_exporter": "python",
   "pygments_lexer": "ipython3",
   "version": "3.11.4"
  }
 },
 "nbformat": 4,
 "nbformat_minor": 5
}
